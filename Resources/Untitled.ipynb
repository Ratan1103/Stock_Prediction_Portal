{
 "cells": [
  {
   "cell_type": "code",
   "execution_count": 1,
   "id": "e4e95bc7-d470-4a6c-9bbf-011884555cb1",
   "metadata": {},
   "outputs": [
    {
     "name": "stdout",
     "output_type": "stream",
     "text": [
      "Hello World \n"
     ]
    }
   ],
   "source": [
    "print('Hello World ')"
   ]
  },
  {
   "cell_type": "code",
   "execution_count": null,
   "id": "b2fbc100-3555-4a53-8de6-67c003b6ecc4",
   "metadata": {},
   "outputs": [],
   "source": []
  }
 ],
 "metadata": {
  "kernelspec": {
   "display_name": "Python 3 (ipykernel)",
   "language": "python",
   "name": "python3"
  },
  "language_info": {
   "codemirror_mode": {
    "name": "ipython",
    "version": 3
   },
   "file_extension": ".py",
   "mimetype": "text/x-python",
   "name": "python",
   "nbconvert_exporter": "python",
   "pygments_lexer": "ipython3",
   "version": "3.13.5"
  }
 },
 "nbformat": 4,
 "nbformat_minor": 5
}
