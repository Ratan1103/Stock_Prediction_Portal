{
 "cells": [
  {
   "cell_type": "code",
   "execution_count": 2,
   "id": "40bb5a76-ce24-40d8-9eaa-a918973a22a8",
   "metadata": {},
   "outputs": [],
   "source": [
    "import numpy as np"
   ]
  },
  {
   "cell_type": "code",
   "execution_count": 3,
   "id": "822752f2-42db-41a6-a75a-15b31c489d10",
   "metadata": {},
   "outputs": [
    {
     "data": {
      "text/plain": [
       "'2.3.1'"
      ]
     },
     "execution_count": 3,
     "metadata": {},
     "output_type": "execute_result"
    }
   ],
   "source": [
    "np.__version__"
   ]
  },
  {
   "cell_type": "markdown",
   "id": "8218a178-3dd2-4227-a94d-1628bca3d828",
   "metadata": {},
   "source": [
    "## Create & Read"
   ]
  },
  {
   "cell_type": "markdown",
   "id": "b3a9c0ab-31ae-49a5-a60a-28661e5881d7",
   "metadata": {},
   "source": [
    "### 1D Array"
   ]
  },
  {
   "cell_type": "code",
   "execution_count": 4,
   "id": "428788f6-a791-42dd-b956-356937a8ca37",
   "metadata": {},
   "outputs": [
    {
     "data": {
      "text/plain": [
       "array([1, 2, 3, 4, 5])"
      ]
     },
     "execution_count": 4,
     "metadata": {},
     "output_type": "execute_result"
    }
   ],
   "source": [
    "arr1=np.array([1,2,3,4,5])\n",
    "arr1"
   ]
  },
  {
   "cell_type": "code",
   "execution_count": 5,
   "id": "3bd7eb3c-9991-45e5-a821-928d71432c9b",
   "metadata": {},
   "outputs": [
    {
     "data": {
      "text/plain": [
       "numpy.ndarray"
      ]
     },
     "execution_count": 5,
     "metadata": {},
     "output_type": "execute_result"
    }
   ],
   "source": [
    "type(arr1)"
   ]
  },
  {
   "cell_type": "code",
   "execution_count": 6,
   "id": "035c6b6f-f0cf-481b-aff6-783488ae27a8",
   "metadata": {},
   "outputs": [
    {
     "data": {
      "text/plain": [
       "(5,)"
      ]
     },
     "execution_count": 6,
     "metadata": {},
     "output_type": "execute_result"
    }
   ],
   "source": [
    "arr1.shape"
   ]
  },
  {
   "cell_type": "code",
   "execution_count": 7,
   "id": "dea46565-7142-48a3-a520-31b4e99df345",
   "metadata": {},
   "outputs": [
    {
     "data": {
      "text/plain": [
       "1"
      ]
     },
     "execution_count": 7,
     "metadata": {},
     "output_type": "execute_result"
    }
   ],
   "source": [
    "arr1.ndim"
   ]
  },
  {
   "cell_type": "code",
   "execution_count": 8,
   "id": "d02e5ca9-bc19-4c91-b7e6-f8f5f6916ae0",
   "metadata": {},
   "outputs": [
    {
     "data": {
      "text/plain": [
       "5"
      ]
     },
     "execution_count": 8,
     "metadata": {},
     "output_type": "execute_result"
    }
   ],
   "source": [
    "arr1.size"
   ]
  },
  {
   "cell_type": "markdown",
   "id": "cc8c2f5a-8d40-42a2-926a-302387fed925",
   "metadata": {},
   "source": [
    "### 2D Array"
   ]
  },
  {
   "cell_type": "code",
   "execution_count": 9,
   "id": "19b35f42-8ec7-462f-b021-cd5a9fd8b49b",
   "metadata": {},
   "outputs": [
    {
     "data": {
      "text/plain": [
       "array([[1, 4, 5],\n",
       "       [2, 3, 7]])"
      ]
     },
     "execution_count": 9,
     "metadata": {},
     "output_type": "execute_result"
    }
   ],
   "source": [
    "arr2=np.array([[1,4,5],[2,3,7]])\n",
    "arr2"
   ]
  },
  {
   "cell_type": "code",
   "execution_count": 10,
   "id": "2d3bb1ef-1ce3-45db-823f-e4c091f21ff6",
   "metadata": {},
   "outputs": [
    {
     "data": {
      "text/plain": [
       "2"
      ]
     },
     "execution_count": 10,
     "metadata": {},
     "output_type": "execute_result"
    }
   ],
   "source": [
    "arr2.ndim"
   ]
  },
  {
   "cell_type": "code",
   "execution_count": 11,
   "id": "9012d0eb-130b-4836-a23f-344abe6be2b1",
   "metadata": {},
   "outputs": [
    {
     "data": {
      "text/plain": [
       "(2, 3)"
      ]
     },
     "execution_count": 11,
     "metadata": {},
     "output_type": "execute_result"
    }
   ],
   "source": [
    "arr2.shape #Row Col"
   ]
  },
  {
   "cell_type": "markdown",
   "id": "659286e9-d9ce-46e8-8d52-b76780f9d566",
   "metadata": {},
   "source": [
    "### 3D Array"
   ]
  },
  {
   "cell_type": "code",
   "execution_count": 12,
   "id": "632f4c5d-9086-4f85-8364-34a446aec1c4",
   "metadata": {},
   "outputs": [
    {
     "data": {
      "text/plain": [
       "array([[[1, 2, 3],\n",
       "        [2, 3, 4]],\n",
       "\n",
       "       [[2, 3, 1],\n",
       "        [8, 9, 4]]])"
      ]
     },
     "execution_count": 12,
     "metadata": {},
     "output_type": "execute_result"
    }
   ],
   "source": [
    "arr3=np.array([[[1,2,3],[2,3,4]],[[2,3,1],[8,9,4]]])\n",
    "arr3"
   ]
  },
  {
   "cell_type": "code",
   "execution_count": 13,
   "id": "91f5554a-1604-4a4b-8eee-c70ae854797b",
   "metadata": {},
   "outputs": [
    {
     "data": {
      "text/plain": [
       "3"
      ]
     },
     "execution_count": 13,
     "metadata": {},
     "output_type": "execute_result"
    }
   ],
   "source": [
    "arr3.ndim"
   ]
  },
  {
   "cell_type": "markdown",
   "id": "4442f8df-ff9b-441d-8484-c63a7ef8105e",
   "metadata": {},
   "source": [
    "### Create Random Array"
   ]
  },
  {
   "cell_type": "code",
   "execution_count": 14,
   "id": "449b0c50-fe63-464a-9c04-164c19d54dfe",
   "metadata": {},
   "outputs": [
    {
     "data": {
      "text/plain": [
       "array([[[0.19903786, 0.54782889, 0.90684905],\n",
       "        [0.34359719, 0.47357598, 0.72630349]],\n",
       "\n",
       "       [[0.06511284, 0.42027244, 0.43766563],\n",
       "        [0.76192581, 0.00992968, 0.77483393]],\n",
       "\n",
       "       [[0.69698027, 0.84397596, 0.40512593],\n",
       "        [0.37491788, 0.58426438, 0.63696149]]])"
      ]
     },
     "execution_count": 14,
     "metadata": {},
     "output_type": "execute_result"
    }
   ],
   "source": [
    "randomArr=np.random.rand(3,2,3)\n",
    "randomArr\n"
   ]
  },
  {
   "cell_type": "code",
   "execution_count": 16,
   "id": "76e96537-a3dd-4696-88fb-d89d9d714f88",
   "metadata": {},
   "outputs": [
    {
     "data": {
      "text/plain": [
       "array([[[0., 0., 0.],\n",
       "        [0., 0., 0.]],\n",
       "\n",
       "       [[0., 0., 0.],\n",
       "        [0., 0., 0.]],\n",
       "\n",
       "       [[0., 0., 0.],\n",
       "        [0., 0., 0.]]])"
      ]
     },
     "execution_count": 16,
     "metadata": {},
     "output_type": "execute_result"
    }
   ],
   "source": [
    "zeros=np.zeros((3,2,3))\n",
    "zeros"
   ]
  },
  {
   "cell_type": "code",
   "execution_count": 17,
   "id": "582641d2-6a72-47d9-9f28-e141560a5392",
   "metadata": {},
   "outputs": [
    {
     "data": {
      "text/plain": [
       "array([[[9, 9, 9],\n",
       "        [9, 9, 9]],\n",
       "\n",
       "       [[9, 9, 9],\n",
       "        [9, 9, 9]],\n",
       "\n",
       "       [[9, 9, 9],\n",
       "        [9, 9, 9]]])"
      ]
     },
     "execution_count": 17,
     "metadata": {},
     "output_type": "execute_result"
    }
   ],
   "source": [
    "full=np.full((3,2,3),9)\n",
    "full"
   ]
  },
  {
   "cell_type": "code",
   "execution_count": 18,
   "id": "9c796720-4ee3-4a69-a346-8f36d6e59316",
   "metadata": {},
   "outputs": [
    {
     "data": {
      "text/plain": [
       "array([[9, 9, 9],\n",
       "       [9, 9, 9]])"
      ]
     },
     "execution_count": 18,
     "metadata": {},
     "output_type": "execute_result"
    }
   ],
   "source": [
    "full[0]"
   ]
  },
  {
   "cell_type": "code",
   "execution_count": 19,
   "id": "1957c9fe-9a24-426f-af77-e2f881aa01f0",
   "metadata": {},
   "outputs": [
    {
     "data": {
      "text/plain": [
       "array([9, 9, 9])"
      ]
     },
     "execution_count": 19,
     "metadata": {},
     "output_type": "execute_result"
    }
   ],
   "source": [
    "full[0][1]"
   ]
  },
  {
   "cell_type": "markdown",
   "id": "56e0f41c-a369-45bf-aba3-1c2f3d826fe2",
   "metadata": {},
   "source": [
    "### Update & Delete "
   ]
  },
  {
   "cell_type": "code",
   "execution_count": 20,
   "id": "2a50f8ed-c851-4256-aeda-019881f72a02",
   "metadata": {},
   "outputs": [],
   "source": [
    "a1=np.random.rand(2,3,2)\n",
    "a2=np.random.rand(2,3,2)"
   ]
  },
  {
   "cell_type": "code",
   "execution_count": 21,
   "id": "a691ff49-fd30-492f-b2d2-c6bea8083ec4",
   "metadata": {},
   "outputs": [
    {
     "data": {
      "text/plain": [
       "array([[[0.51284149, 0.63944393],\n",
       "        [0.70243081, 0.55168465],\n",
       "        [0.36011788, 0.77895842]],\n",
       "\n",
       "       [[0.88310844, 0.00287668],\n",
       "        [0.74236846, 0.14534   ],\n",
       "        [0.97960325, 0.98326394]]])"
      ]
     },
     "execution_count": 21,
     "metadata": {},
     "output_type": "execute_result"
    }
   ],
   "source": [
    "a1"
   ]
  },
  {
   "cell_type": "code",
   "execution_count": 22,
   "id": "3b635216-94f5-46c3-97bc-60463855977c",
   "metadata": {},
   "outputs": [
    {
     "data": {
      "text/plain": [
       "array([[[0.85011287, 0.3222664 ],\n",
       "        [0.4512024 , 0.52706464],\n",
       "        [0.22249363, 0.36028508]],\n",
       "\n",
       "       [[0.34121013, 0.0795644 ],\n",
       "        [0.97683902, 0.87785066],\n",
       "        [0.01109963, 0.54992698]]])"
      ]
     },
     "execution_count": 22,
     "metadata": {},
     "output_type": "execute_result"
    }
   ],
   "source": [
    "a2"
   ]
  },
  {
   "cell_type": "code",
   "execution_count": 23,
   "id": "765c01a8-9108-41e5-9bc0-194d18fba118",
   "metadata": {},
   "outputs": [
    {
     "data": {
      "text/plain": [
       "array([[[1.36295436, 0.96171033],\n",
       "        [1.15363321, 1.07874929],\n",
       "        [0.58261151, 1.1392435 ]],\n",
       "\n",
       "       [[1.22431857, 0.08244108],\n",
       "        [1.71920747, 1.02319066],\n",
       "        [0.99070288, 1.53319092]]])"
      ]
     },
     "execution_count": 23,
     "metadata": {},
     "output_type": "execute_result"
    }
   ],
   "source": [
    "np.add(a1,a2)"
   ]
  },
  {
   "cell_type": "code",
   "execution_count": 25,
   "id": "237d467b-356a-4287-a655-305675c8b5e2",
   "metadata": {},
   "outputs": [
    {
     "data": {
      "text/plain": [
       "array([[[-0.33727137,  0.31717753],\n",
       "        [ 0.2512284 ,  0.02462002],\n",
       "        [ 0.13762425,  0.41867334]],\n",
       "\n",
       "       [[ 0.5418983 , -0.07668773],\n",
       "        [-0.23447056, -0.73251066],\n",
       "        [ 0.96850362,  0.43333696]]])"
      ]
     },
     "execution_count": 25,
     "metadata": {},
     "output_type": "execute_result"
    }
   ],
   "source": [
    "np.subtract(a1,a2)"
   ]
  },
  {
   "cell_type": "code",
   "execution_count": 28,
   "id": "04e22a0f-f573-4db9-81d3-dbe054be8e50",
   "metadata": {},
   "outputs": [
    {
     "data": {
      "text/plain": [
       "array([[[4.35973154e-01, 2.06071295e-01],\n",
       "        [3.16938467e-01, 2.90773473e-01],\n",
       "        [8.01239349e-02, 2.80647094e-01]],\n",
       "\n",
       "       [[3.01325547e-01, 2.28881238e-04],\n",
       "        [7.25174473e-01, 1.27586816e-01],\n",
       "        [1.08732334e-02, 5.40723369e-01]]])"
      ]
     },
     "execution_count": 28,
     "metadata": {},
     "output_type": "execute_result"
    }
   ],
   "source": [
    "np.multiply(a1,a2)"
   ]
  },
  {
   "cell_type": "code",
   "execution_count": 29,
   "id": "b57a10f5-7202-4fef-a85f-38384d92218f",
   "metadata": {},
   "outputs": [
    {
     "data": {
      "text/plain": [
       "array([[[9, 9, 9],\n",
       "        [5, 9, 9]],\n",
       "\n",
       "       [[9, 9, 9],\n",
       "        [9, 9, 9]],\n",
       "\n",
       "       [[9, 9, 9],\n",
       "        [9, 9, 9]]])"
      ]
     },
     "execution_count": 29,
     "metadata": {},
     "output_type": "execute_result"
    }
   ],
   "source": [
    "full[0][1][0]=5\n",
    "full"
   ]
  },
  {
   "cell_type": "code",
   "execution_count": null,
   "id": "cd363b24-8a5a-4938-b956-eab585ed94ff",
   "metadata": {},
   "outputs": [],
   "source": []
  }
 ],
 "metadata": {
  "kernelspec": {
   "display_name": "Python 3 (ipykernel)",
   "language": "python",
   "name": "python3"
  },
  "language_info": {
   "codemirror_mode": {
    "name": "ipython",
    "version": 3
   },
   "file_extension": ".py",
   "mimetype": "text/x-python",
   "name": "python",
   "nbconvert_exporter": "python",
   "pygments_lexer": "ipython3",
   "version": "3.13.5"
  }
 },
 "nbformat": 4,
 "nbformat_minor": 5
}
